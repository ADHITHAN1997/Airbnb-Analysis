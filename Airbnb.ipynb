{
 "cells": [
  {
   "cell_type": "code",
   "execution_count": 1,
   "metadata": {},
   "outputs": [],
   "source": [
    "#imort packages\n",
    "import json\n",
    "import pandas as pd\n",
    "import numpy as np\n",
    "import seaborn as sns\n",
    "import plotly.express as px\n",
    "import matplotlib.pyplot as plt\n",
    "import streamlit as st\n",
    "from streamlit_option_menu import option_menu"
   ]
  },
  {
   "cell_type": "code",
   "execution_count": 2,
   "metadata": {},
   "outputs": [],
   "source": [
    "#get data\n",
    "file = open('sample_airbnb.json')\n",
    "data = json.load(file)\n",
    "datas=pd.DataFrame(data)"
   ]
  },
  {
   "cell_type": "code",
   "execution_count": null,
   "metadata": {},
   "outputs": [],
   "source": [
    "#pd.set_option('display.max_columns', None)\n",
    "#pd.set_option('display.max_rows', None)\n",
    "datas.head(2)"
   ]
  },
  {
   "cell_type": "markdown",
   "metadata": {},
   "source": [
    "### correct the data type"
   ]
  },
  {
   "cell_type": "code",
   "execution_count": 4,
   "metadata": {},
   "outputs": [],
   "source": [
    "datas['bedrooms'] = datas['bedrooms'].astype('Int64')\n",
    "datas['beds'] = datas['beds'].astype('Int64') \n",
    "datas['minimum_nights'] = datas['minimum_nights'].astype(int)\n",
    "datas['maximum_nights'] = datas['maximum_nights'].astype(int)\n",
    "datas['bathrooms'] = pd.to_numeric(datas['bathrooms'], errors='coerce').fillna(-1).astype(int)\n",
    "datas['first_review'] = pd.to_datetime(datas['first_review'])\n",
    "datas['last_review'] = pd.to_datetime(datas['last_review'])\n",
    "datas['calendar_last_scraped'] = pd.to_datetime(datas['calendar_last_scraped'])\n",
    "datas['last_scraped'] = pd.to_datetime(datas['last_scraped'])"
   ]
  },
  {
   "cell_type": "code",
   "execution_count": null,
   "metadata": {},
   "outputs": [],
   "source": [
    "datas.info()"
   ]
  },
  {
   "cell_type": "markdown",
   "metadata": {},
   "source": [
    "### Handling the missing values"
   ]
  },
  {
   "cell_type": "code",
   "execution_count": 6,
   "metadata": {},
   "outputs": [],
   "source": [
    "datas['first_review'].fillna(datas['first_review'].mode()[0], inplace=True)\n",
    "datas['last_review'].fillna(datas['last_review'].mode()[0], inplace=True)\n",
    "datas['bedrooms'].fillna(datas['bedrooms'].median(), inplace=True)\n",
    "datas['beds'].fillna(datas['beds'].median(), inplace=True)\n",
    "datas['bathrooms'].fillna(datas['bathrooms'].median(), inplace=True)\n",
    "datas['security_deposit'].fillna(datas['security_deposit'].median(), inplace=True)\n",
    "datas['cleaning_fee'].fillna(datas['cleaning_fee'].median(), inplace=True)\n",
    "datas['weekly_price'].fillna(datas['weekly_price'].median(), inplace=True)\n",
    "datas['monthly_price'].fillna(datas['monthly_price'].median(), inplace=True)\n",
    "datas['reviews_per_month'].fillna(datas['reviews_per_month'].median(), inplace=True)"
   ]
  },
  {
   "cell_type": "code",
   "execution_count": null,
   "metadata": {},
   "outputs": [],
   "source": [
    "datas.isnull().sum()"
   ]
  },
  {
   "cell_type": "markdown",
   "metadata": {},
   "source": [
    "### correct the dataframe for analysis"
   ]
  },
  {
   "cell_type": "code",
   "execution_count": 8,
   "metadata": {},
   "outputs": [],
   "source": [
    "def crt_df():\n",
    "    add=[]\n",
    "    for i in datas['address']:\n",
    "        add.append(i)\n",
    "\n",
    "    add_df=pd.DataFrame(add)\n",
    "\n",
    "    loc=[]\n",
    "    for i in add_df['location']:\n",
    "        loc.append(i)\n",
    "\n",
    "    loc_df=pd.DataFrame(loc)\n",
    "    loc_df['is_location_exact'] = loc_df['is_location_exact'].map({False:'No',True:'Yes'})\n",
    "    loc_df[['longitude', 'latitude']] = pd.DataFrame(loc_df['coordinates'].tolist(), index=loc_df.index)\n",
    "    loc_df.drop(columns=['coordinates'], inplace=True)\n",
    "\n",
    "    availabil=[]\n",
    "    for i in datas['availability']:\n",
    "        availabil.append(i)\n",
    "\n",
    "    availability_df=pd.DataFrame(availabil)\n",
    "\n",
    "    host=[]\n",
    "    for i in datas['host']:\n",
    "        host.append(i)\n",
    "\n",
    "    host_df=pd.DataFrame(host)\n",
    "    # remove unwanted columns\n",
    "    columns_to_drop = ['summary','calendar_last_scraped','last_scraped','notes','space','reviews_per_month','availability','last_review',\n",
    "                        'first_review','transit','access','interaction','amenities','address']\n",
    "    temp_df = datas.drop(columns=columns_to_drop)\n",
    "    #merge all df\n",
    "    airbnb_data = pd.concat([temp_df, add_df, loc_df,availability_df,host_df], axis=1)\n",
    "\n",
    "    return airbnb_data"
   ]
  },
  {
   "cell_type": "code",
   "execution_count": 9,
   "metadata": {},
   "outputs": [],
   "source": [
    "airbnb_data=crt_df()\n",
    "# df saved csv file\n",
    "airbnb_data.to_csv('Airbnb_data.csv',index=False)"
   ]
  },
  {
   "cell_type": "markdown",
   "metadata": {},
   "source": [
    "### visualise the data"
   ]
  },
  {
   "cell_type": "code",
   "execution_count": 10,
   "metadata": {},
   "outputs": [],
   "source": [
    "# geo visualization map\n",
    "def geo_visual(data_set):\n",
    "    airbnb= pd.read_csv(data_set)\n",
    "\n",
    "    fig = px.scatter_mapbox(airbnb, lat=\"latitude\", lon=\"longitude\", hover_name=\"country\", hover_data=[\"name\",\"price\",\"is_location_exact\"],\n",
    "                            color_discrete_sequence=[\"fuchsia\"], zoom=2, height=500)\n",
    "    fig.update_layout(mapbox_style=\"open-street-map\")\n",
    "    fig.update_layout(margin={\"r\":0,\"t\":0,\"l\":0,\"b\":0})\n",
    "    fig.show()"
   ]
  },
  {
   "cell_type": "code",
   "execution_count": null,
   "metadata": {},
   "outputs": [],
   "source": [
    "geo_visual(\"Airbnb_data.csv\")"
   ]
  },
  {
   "cell_type": "code",
   "execution_count": 12,
   "metadata": {},
   "outputs": [],
   "source": [
    "#Top 20 Most Expensive Listings\n",
    "def top_20_price(data_set):\n",
    "    airbnb= pd.read_csv(data_set)\n",
    "    top_20_data =airbnb.nlargest(20,'price')\n",
    "    fig_line = px.line(top_20_data, \n",
    "                    x=\"name\", \n",
    "                    y=\"price\", \n",
    "                    hover_name=\"country\",\n",
    "                    title=\"Top 20 Most Expensive Listings\", \n",
    "                    width=1000, \n",
    "                    height=1000, \n",
    "                    markers=True, \n",
    "                    color_discrete_sequence=[\"blue\"])\n",
    "\n",
    "    fig_line.update_traces(mode=\"lines+markers\")\n",
    "\n",
    "    fig_line.show()"
   ]
  },
  {
   "cell_type": "code",
   "execution_count": null,
   "metadata": {},
   "outputs": [],
   "source": [
    "top_20_price(\"Airbnb_data.csv\")"
   ]
  },
  {
   "cell_type": "code",
   "execution_count": 14,
   "metadata": {},
   "outputs": [],
   "source": [
    "#lowest 20 price listings\n",
    "def low_20_price(data_set):\n",
    "    airbnb= pd.read_csv(data_set)\n",
    "    lowest_20_data = airbnb.nsmallest(20,\"price\")\n",
    "    fig_bar = px.bar(lowest_20_data, \n",
    "                    x=\"price\", \n",
    "                    y=\"name\",\n",
    "                    hover_name=\"country\",\n",
    "                    title=\"Lowest 20 Listings\", \n",
    "                    width=1000, \n",
    "                    height=800, \n",
    "                    color_discrete_sequence=[\"yellowgreen\"],\n",
    "                    orientation='h')\n",
    "\n",
    "    fig_bar.show()"
   ]
  },
  {
   "cell_type": "code",
   "execution_count": null,
   "metadata": {},
   "outputs": [],
   "source": [
    "low_20_price(\"Airbnb_data.csv\")"
   ]
  },
  {
   "cell_type": "code",
   "execution_count": 16,
   "metadata": {},
   "outputs": [],
   "source": [
    "def availability_pie_chart(data_set):\n",
    "    airbnb = pd.read_csv(data_set)\n",
    "\n",
    "    airbnb['total_availability'] = airbnb[[\"availability_30\", \"availability_60\", \"availability_90\", \"availability_365\"]].sum(axis=1)\n",
    "\n",
    "    fig_pie = px.pie(data_frame=airbnb, names='room_type', values='total_availability',\n",
    "                     width=600, height=500, title='ROOM TYPE AND AVAILABILITY', hole=0.5,\n",
    "                     color_discrete_sequence=px.colors.sequential.Darkmint_r)\n",
    "    fig_pie.show()"
   ]
  },
  {
   "cell_type": "code",
   "execution_count": null,
   "metadata": {},
   "outputs": [],
   "source": [
    "availability_pie_chart(\"Airbnb_data.csv\")"
   ]
  },
  {
   "cell_type": "code",
   "execution_count": 18,
   "metadata": {},
   "outputs": [],
   "source": [
    "def acc_price_list(data_set):\n",
    "    airbnb = pd.read_csv(data_set)\n",
    "    fig_accommodates = px.bar(airbnb, x=\"accommodates\", y=\"security_deposit\", title=\"ACCOMMODATES AND PRICE LIST\",\n",
    "                            hover_data=[\"price\", \"extra_people\"], hover_name=\"name\",\n",
    "                            color=\"security_deposit\", color_continuous_scale='Bluered',\n",
    "                            width=1000, height=600)\n",
    "    fig_accommodates.show()"
   ]
  },
  {
   "cell_type": "code",
   "execution_count": null,
   "metadata": {},
   "outputs": [],
   "source": [
    "acc_price_list(\"Airbnb_data.csv\")"
   ]
  },
  {
   "cell_type": "code",
   "execution_count": null,
   "metadata": {},
   "outputs": [],
   "source": []
  }
 ],
 "metadata": {
  "kernelspec": {
   "display_name": "Python 3",
   "language": "python",
   "name": "python3"
  },
  "language_info": {
   "codemirror_mode": {
    "name": "ipython",
    "version": 3
   },
   "file_extension": ".py",
   "mimetype": "text/x-python",
   "name": "python",
   "nbconvert_exporter": "python",
   "pygments_lexer": "ipython3",
   "version": "3.11.5"
  }
 },
 "nbformat": 4,
 "nbformat_minor": 2
}
